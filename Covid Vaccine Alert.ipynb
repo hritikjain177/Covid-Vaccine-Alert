{
 "cells": [
  {
   "cell_type": "markdown",
   "id": "fe31af59",
   "metadata": {},
   "source": [
    "# Vaccine Alert"
   ]
  },
  {
   "cell_type": "code",
   "execution_count": 1,
   "id": "64887523",
   "metadata": {},
   "outputs": [],
   "source": [
    "from bs4 import BeautifulSoup\n",
    "import urllib.request\n",
    "import smtplib\n",
    "import time\n",
    "import requests\n",
    "from email.message import EmailMessage"
   ]
  },
  {
   "cell_type": "code",
   "execution_count": 2,
   "id": "a8e1b24a",
   "metadata": {},
   "outputs": [],
   "source": [
    "headers = {\n",
    "\"User-Agent\": \"Mozilla/5.0 (X11; Ubuntu; Linux x86_64; rv:90.0) Gecko/20100101 Firefox/90.0\"\n",
    "}"
   ]
  },
  {
   "cell_type": "code",
   "execution_count": 3,
   "id": "5b44dfb8",
   "metadata": {},
   "outputs": [],
   "source": [
    "email_id = 'creator1707@outlook.com'\n",
    "email_pass = 'creator@123'"
   ]
  },
  {
   "cell_type": "code",
   "execution_count": 4,
   "id": "5d40a093",
   "metadata": {},
   "outputs": [],
   "source": [
    "prices_list = []"
   ]
  },
  {
   "cell_type": "code",
   "execution_count": 5,
   "id": "a346b7c5",
   "metadata": {},
   "outputs": [],
   "source": [
    "def check_price():\n",
    "    url = \"https://www.amazon.in/OnePlus-Nord-Lite-128GB-Storage/dp/B09WQYFLRX/ref=sr_1_2?crid=3KX4GEQA7I9JN&keywords=one%2Bplus%2Bce2%2Blite&qid=1659861727&sprefix=one%2Bplus%2Bce2%2Blite%2Caps%2C377&sr=8-2&th=1\"\n",
    "    # send a request to fetch HTML of the page\n",
    "    response = requests.get('https://www.amazon.in/Bose-Comfort-Wireless-Headphone-Silver/dp/B0756GB78C', headers=headers)\n",
    "\n",
    "    # create the soup object\n",
    "    soup = BeautifulSoup(response.content, 'html.parser')\n",
    "\n",
    "    # change the encoding to utf-8\n",
    "    soup.encode('utf-8')\n",
    "    \n",
    "    prices = soup.find(class_ =\"a-offscreen\").get_text()\n",
    "    print(prices)\n",
    "    prices = float(prices.replace(\",\",\"\").replace(\"₹\", \"\"))\n",
    "    prices_list.append(prices)\n",
    "    return prices\n"
   ]
  },
  {
   "cell_type": "code",
   "execution_count": 6,
   "id": "d3ce6b9c",
   "metadata": {},
   "outputs": [],
   "source": [
    "def send_email():\n",
    "    msg = EmailMessage()\n",
    "    msg['Subject']  = \"price has dropped !!\"\n",
    "    msg['From'] = email_id\n",
    "    msg['To'] = \"hritikjain0717@gmail.com\"\n",
    "    msg.set_content(\"Hey check this amazon link : https://www.amazon.in/Bose-Comfort-Wireless-Headphone-Silver/dp/B0756GB78C\")\n",
    "    \n",
    "    s = smtplib.SMTP(\"smtp.office365.com\", 587)\n",
    "    s.starttls()\n",
    "    s.login(email_id, email_pass)\n",
    "    s.send_message(msg)\n",
    "    s.quit()"
   ]
  },
  {
   "cell_type": "code",
   "execution_count": 7,
   "id": "ec93d879",
   "metadata": {},
   "outputs": [],
   "source": [
    "def decrease_price_check(prices_list):\n",
    "    if prices_list[-1]<prices_list[-2]:\n",
    "        return True\n",
    "    else:\n",
    "        return False\n",
    "    "
   ]
  },
  {
   "cell_type": "code",
   "execution_count": 8,
   "id": "8ff8c24a",
   "metadata": {},
   "outputs": [],
   "source": [
    "def set_alert(prices_list, alert_price):\n",
    "    if prices_list[-1]<=alert_price:\n",
    "        return True\n",
    "    else:\n",
    "        return False"
   ]
  },
  {
   "cell_type": "code",
   "execution_count": null,
   "id": "becd9c73",
   "metadata": {},
   "outputs": [],
   "source": [
    "count = 1\n",
    "\n",
    "while True:\n",
    "    current_price= check_price()\n",
    "    alert = 30000\n",
    "    flag1 = set_alert(prices_list, alert)\n",
    "        \n",
    "    if flag1:\n",
    "        send_email()\n",
    "    \n",
    "    if count>1:\n",
    "        flag = decrease_price_check(prices_list)\n",
    "\n",
    "        if flag:\n",
    "            decrease = prices_list[-1] - prices_list[-2]\n",
    "            send_email()\n",
    "    time.sleep(5)\n",
    "    count += 1"
   ]
  },
  {
   "cell_type": "code",
   "execution_count": null,
   "id": "2abea36b",
   "metadata": {},
   "outputs": [],
   "source": []
  }
 ],
 "metadata": {
  "kernelspec": {
   "display_name": "Python 3 (ipykernel)",
   "language": "python",
   "name": "python3"
  },
  "language_info": {
   "codemirror_mode": {
    "name": "ipython",
    "version": 3
   },
   "file_extension": ".py",
   "mimetype": "text/x-python",
   "name": "python",
   "nbconvert_exporter": "python",
   "pygments_lexer": "ipython3",
   "version": "3.10.2"
  }
 },
 "nbformat": 4,
 "nbformat_minor": 5
}
